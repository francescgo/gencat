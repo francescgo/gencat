{
 "cells": [
  {
   "cell_type": "code",
   "execution_count": 12,
   "id": "b5243a2a-b944-431a-a349-95dc39efc5d1",
   "metadata": {},
   "outputs": [],
   "source": [
    "# Importamos pandas, numpy y matplotlib\n",
    "import pandas as pd\n",
    "import numpy as np\n",
    "import matplotlib.pyplot as plt\n",
    "\n",
    "# Leer el csv de recetas como DataFrame. Se puede descargar en https://analisi.transparenciacatalunya.cat/Salut/Receptes-facturades-al-Servei-Catal-de-la-Salut/thrd-jj3r/about_data\n",
    "recetas_all = pd.read_csv(\"recetas.csv\",low_memory=False)\n",
    "\n",
    "# Seleccionamos solo unas columnas específicas\n",
    "recetas_lite = recetas_all[['any','sexe','nombre de receptes','nombre d\\'envasos','import íntegre','import aportació CatSalut']]"
   ]
  },
  {
   "cell_type": "code",
   "execution_count": 13,
   "id": "1283522b-c887-459c-8d3a-24e34c63b60d",
   "metadata": {},
   "outputs": [
    {
     "name": "stdout",
     "output_type": "stream",
     "text": [
      "          any  sexe  nombre de receptes  nombre d'envasos  import íntegre  \\\n",
      "1014565  2023  Dona                  10                10           28.30   \n",
      "1014566  2023  Dona                   3                 3           49.42   \n",
      "1014567  2023  Dona                  63                63          215.43   \n",
      "1014568  2023  Dona                 237               237         1832.35   \n",
      "1014569  2023  Dona                  30                30           84.27   \n",
      "\n",
      "         import aportació CatSalut  \n",
      "1014565                      18.68  \n",
      "1014566                      42.73  \n",
      "1014567                     137.30  \n",
      "1014568                    1088.72  \n",
      "1014569                      63.36  \n"
     ]
    }
   ],
   "source": [
    "# Filtramos el 2024 porque está incompleto e imprimimos las primeras filas\n",
    "recetas = recetas_lite[recetas_lite['any']!=2024]\n",
    "\n",
    "print(recetas.head())"
   ]
  },
  {
   "cell_type": "code",
   "execution_count": 15,
   "id": "a7ea717f-8e85-4efb-bfbb-0f339224f29f",
   "metadata": {},
   "outputs": [
    {
     "name": "stdout",
     "output_type": "stream",
     "text": [
      "any\n",
      "2016    136275849\n",
      "2017    136729914\n",
      "2018    137365882\n",
      "2019    139811310\n",
      "2020    141555233\n",
      "2021    143025558\n",
      "2022    151505177\n",
      "2023    156796667\n",
      "Name: nombre de receptes, dtype: int64\n"
     ]
    },
    {
     "data": {
      "image/png": "[encoded data removed]",
      "text/plain": [
       "<Figure size 640x480 with 1 Axes>"
      ]
     },
     "metadata": {},
     "output_type": "display_data"
    }
   ],
   "source": [
    "# Recetas por año\n",
    "recetas_anyo = recetas.groupby('any')['nombre de receptes'].sum()\n",
    "print(recetas_anyo)\n",
    "plt.plot(recetas_anyo)\n",
    "plt.show()"
   ]
  },
  {
   "cell_type": "code",
   "execution_count": 27,
   "id": "67adb3c5-46a8-4568-89e5-4f7114668d74",
   "metadata": {},
   "outputs": [
    {
     "name": "stdout",
     "output_type": "stream",
     "text": [
      "                       nombre de receptes         nombre d'envasos          \\\n",
      "                                      sum     max              sum     max   \n",
      "any  sexe                                                                    \n",
      "2016 Altres                          1718     166             1718     166   \n",
      "     Dona                        77128768   80490         77140103   80490   \n",
      "     Home                        58733752   41468         58744549   41468   \n",
      "     Sense especificar             411611    4086           412165    4086   \n",
      "2017 Altres                          1665     139             1665     139   \n",
      "     Dona                        77246101   84772         77256035   84772   \n",
      "     Home                        59071138   43426         59080411   43426   \n",
      "     Sense especificar             411010    4409           411490    4409   \n",
      "2018 Altres                          1481     134             1481     134   \n",
      "     Dona                        77458711   93766         77464640   93766   \n",
      "     Home                        59432022   43919         59437834   43919   \n",
      "     Sense especificar             473668    4721           474234    4721   \n",
      "2019 Altres                          1375      98             1375      98   \n",
      "     Dona                        78699418  104596         78704082  104596   \n",
      "     Home                        60441986   44277         60446284   44277   \n",
      "     Sense especificar             668531    5660           669222    5660   \n",
      "2020 Altres                          4835    3454             4837    3454   \n",
      "     Dona                        79647412  146808         79922122  146808   \n",
      "     Home                        61226893   74006         61455567   74007   \n",
      "     Sense especificar             676093   21662           685015   26840   \n",
      "2021 Altres                          1207      98             1207      98   \n",
      "     Dona                        81033154  106715         81035389  106715   \n",
      "     Home                        61239650   42738         61241970   42738   \n",
      "     Sense especificar             751547    6899           752080    6899   \n",
      "2022 Altres                          1361      95             1361      95   \n",
      "     Dona                        85937699  113720         85940652  113720   \n",
      "     Home                        64655962   42252         64658539   42252   \n",
      "     Sense especificar             910155    7265           911062    7265   \n",
      "2023 Altres                         54703    1321            54901    1321   \n",
      "     Dona                        88829769  117509         88832543  117509   \n",
      "     Home                        67061079   40902         67063509   40902   \n",
      "     Sense especificar             851116    7455           852126    7455   \n",
      "\n",
      "                       envasos per recepta  \n",
      "                                            \n",
      "any  sexe                                   \n",
      "2016 Altres                       1.000000  \n",
      "     Dona                         1.000147  \n",
      "     Home                         1.000184  \n",
      "     Sense especificar            1.001346  \n",
      "2017 Altres                       1.000000  \n",
      "     Dona                         1.000129  \n",
      "     Home                         1.000157  \n",
      "     Sense especificar            1.001168  \n",
      "2018 Altres                       1.000000  \n",
      "     Dona                         1.000077  \n",
      "     Home                         1.000098  \n",
      "     Sense especificar            1.001195  \n",
      "2019 Altres                       1.000000  \n",
      "     Dona                         1.000059  \n",
      "     Home                         1.000071  \n",
      "     Sense especificar            1.001034  \n",
      "2020 Altres                       1.000414  \n",
      "     Dona                         1.003449  \n",
      "     Home                         1.003735  \n",
      "     Sense especificar            1.013196  \n",
      "2021 Altres                       1.000000  \n",
      "     Dona                         1.000028  \n",
      "     Home                         1.000038  \n",
      "     Sense especificar            1.000709  \n",
      "2022 Altres                       1.000000  \n",
      "     Dona                         1.000034  \n",
      "     Home                         1.000040  \n",
      "     Sense especificar            1.000997  \n",
      "2023 Altres                       1.003620  \n",
      "     Dona                         1.000031  \n",
      "     Home                         1.000036  \n",
      "     Sense especificar            1.001187  \n"
     ]
    },
    {
     "name": "stderr",
     "output_type": "stream",
     "text": [
      "/var/folders/ml/7kx5fr6920j1qvdwgln9z2_r0000gn/T/ipykernel_50153/2762778894.py:2: FutureWarning: The provided callable <built-in function max> is currently using SeriesGroupBy.max. In a future version of pandas, the provided callable will be used directly. To keep current behavior pass the string \"max\" instead.\n",
      "  recetas_as = recetas.groupby(['any','sexe'])[['nombre de receptes','nombre d\\'envasos']].agg([\"sum\",max])\n"
     ]
    }
   ],
   "source": [
    "# Recetas, envases y envases por receta por sexo y año\n",
    "recetas_as = recetas.groupby(['any','sexe'])[['nombre de receptes','nombre d\\'envasos']].agg([\"sum\",max])\n",
    "recetas_as['envasos per recepta'] = recetas_as['nombre d\\'envasos']['sum']/recetas_as['nombre de receptes']['sum']\n",
    "print(recetas_as)"
   ]
  },
  {
   "cell_type": "code",
   "execution_count": null,
   "id": "2c013570-46e1-4d71-9846-ccc2ec9138c3",
   "metadata": {},
   "outputs": [],
   "source": []
  }
 ],
 "metadata": {
  "kernelspec": {
   "display_name": "Python 3 (ipykernel)",
   "language": "python",
   "name": "python3"
  },
  "language_info": {
   "codemirror_mode": {
    "name": "ipython",
    "version": 3
   },
   "file_extension": ".py",
   "mimetype": "text/x-python",
   "name": "python",
   "nbconvert_exporter": "python",
   "pygments_lexer": "ipython3",
   "version": "3.13.2"
  }
 },
 "nbformat": 4,
 "nbformat_minor": 5
}
